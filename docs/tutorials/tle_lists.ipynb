{
 "cells": [
  {
   "cell_type": "markdown",
   "source": [
    "# Loading and Filtering TLE Lists\n",
    "\n",
    "Note that, Orekit needs to be initialised first."
   ],
   "metadata": {
    "collapsed": false
   }
  },
  {
   "cell_type": "code",
   "execution_count": 1,
   "outputs": [],
   "source": [
    "from pathlib import Path\n",
    "\n",
    "import orekit\n",
    "from orekit.pyhelpers import setup_orekit_curdir\n",
    "\n",
    "# Init Java VM\n",
    "orekit.initVM()\n",
    "\n",
    "#  Init Orekit data\n",
    "orekit_data_file_path = Path(\"..\", \"..\", \"data\", \"orekit-data\", \"orekit-data-reference.zip\").resolve()\n",
    "setup_orekit_curdir(str(orekit_data_file_path))\n"
   ],
   "metadata": {
    "collapsed": false
   }
  },
  {
   "cell_type": "markdown",
   "source": [
    "cdgdxfgg\n",
    "\n",
    "the most common application is to load a file (or a string) containing TLE data in text format and filtering satellites with a certain parameter."
   ],
   "metadata": {
    "collapsed": false
   }
  },
  {
   "cell_type": "code",
   "execution_count": 5,
   "outputs": [
    {
     "name": "stdout",
     "output_type": "stream",
     "text": [
      "1 28366U 04025A   21088.48552344  .00000020  00000-0  20339-4 0  9993\n",
      "2 28366  98.2305 333.6788 0106609 231.7460 127.4097 14.36733092877928\n",
      "1 46495U 20068K   21089.25908752 -.00000061  00000-0  99758-7 0  9995\n",
      "2 46495  97.6865  27.2569 0016962 346.9048  13.1734 15.03385776 27430\n",
      "1 28366U 04025A   21088.48552344  .00000020  00000-0  20339-4 0  9993\n",
      "2 28366  98.2305 333.6788 0106609 231.7460 127.4097 14.36733092877928\n"
     ]
    }
   ],
   "source": [
    "from org.orekit.time import AbsoluteDate, TimeScalesFactory\n",
    "\n",
    "# If satkit import fails, try to locate the module\n",
    "import os\n",
    "try:\n",
    "    import satkit\n",
    "except ModuleNotFoundError:\n",
    "    os.chdir(os.path.join(\"..\", \"..\"))\n",
    "    os.getcwd()\n",
    "\n",
    "from satkit import process_paths\n",
    "from satkit.propagation.tle_list import (\n",
    "    TleRangeFilterParams,\n",
    "    TleStorage,\n",
    "    TleValueFilterParams,\n",
    ")\n",
    "\n",
    "# Orekit init complete, continue with loading the TLE file.\n",
    "\n",
    "# use case 1, load from TLE file, filter for a certain satellite number\n",
    "# ---------------------------------------------------------------------\n",
    "alt_intermed_path = Path(\"docs\", \"tutorials\")\n",
    "mixed_tle_file_path_1 = Path(\"data\", \"tle_mixed_1.txt\")\n",
    "\n",
    "file_path = process_paths(alt_intermed_path, mixed_tle_file_path_1)\n",
    "\n",
    "tle_storage_1 = TleStorage.from_path(file_path)\n",
    "\n",
    "# Print the first element of the TLE file as an example\n",
    "print(tle_storage_1.tle_list[0])\n",
    "\n",
    "# filter for a specific satellite number\n",
    "filtered_list_1 = tle_storage_1.filter_by_value(TleValueFilterParams.SAT_NR, 46495)\n",
    "\n",
    "# Print the filtered element of the filtered TLE list\n",
    "print(filtered_list_1.tle_list[0])\n",
    "\n",
    "# use case 2, load from TLE string, filter for a certain epoch\n",
    "# ---------------------------------------------------------------------\n",
    "with open(file_path, \"r\") as f:\n",
    "    tle_source_str = f.read()\n",
    "\n",
    "tle_storage_2 = TleStorage.from_string(tle_source_str)\n",
    "\n",
    "# filter for TLEs after a specific epoch\n",
    "threshold_time = AbsoluteDate(\"2021-02-01T00:00:00.000\", TimeScalesFactory.getUTC())\n",
    "filtered_list_2 = tle_storage_2.filter_by_range(TleRangeFilterParams.EPOCH, min_value=threshold_time)\n",
    "\n",
    "# Print the first element of the filtered TLE list\n",
    "print(filtered_list_2.tle_list[0])"
   ],
   "metadata": {
    "collapsed": false
   }
  },
  {
   "cell_type": "markdown",
   "source": [
    "The example above shows a number of important functionalities. A {py:class}`.TleStorage` object can be initialised using {py:meth}`.TleStorage.from_path` method (from a TLE file) or {py:meth}`.TleStorage.from_string` method (from a string containing a list of TLEs). The latter can be useful while downloading a TLE data from a remote location without saving it to an intermediate file. The example also shows the filtering functionality, which is detailed in the next section.\n",
    "\n",
    "Once initialised, the TLE list can be filtered using the enumerator {py:class}`.TleValueFilterParams` and a filtering value. Furthermore, to filter with an element like an identifier (e.g. name or catalogue number) where an exact match can be found, `filter_by_value` method should be used. In the example above, a satellite with the catalogue number \"46495\" is extracted from the list.\n",
    "\n",
    "Conversely, if a range rather than an exact match is sought (e.g. semimajor axis, epoch or eccentricity), then `filter_by_range` method and the {py:class}`.TleRangeFilterParams` should be used. In the example above, a\n",
    "threshold epoch is given and all TLE values after this threshold are extracted."
   ],
   "metadata": {
    "collapsed": false
   }
  },
  {
   "cell_type": "code",
   "execution_count": null,
   "outputs": [],
   "source": [
    "# filtering with a max and min epoch date\n",
    "min_threshold_time = AbsoluteDate(\"2021-03-29T00:00:00.000\", TimeScalesFactory.getUTC())\n",
    "max_threshold_time = AbsoluteDate(\"2021-03-29T13:00:00.000\", TimeScalesFactory.getUTC())\n",
    "filtered_list_3 = tle_storage_2.filter_by_range(TleRangeFilterParams.EPOCH, min_value=min_threshold_time, max_value=max_threshold_time)\n",
    "\n",
    "# Print the first element of the filtered TLE list\n",
    "print(filtered_list_3.tle_list[0])\n",
    "\n",
    "from satkit import u\n",
    "\n",
    "# filtering with a min inclination\n",
    "min_inclination = 90 * u.deg\n",
    "filtered_list_4 = tle_storage_2.filter_by_range(TleRangeFilterParams.INCLINATION, min_value=min_inclination)\n",
    "\n",
    "# Print the first element of the filtered TLE list\n",
    "print(filtered_list_4.tle_list[0])\n",
    "\n",
    "# filtering with a max eccentricity\n",
    "max_e = 0.001\n",
    "filtered_list_5 = tle_storage_2.filter_by_range(TleRangeFilterParams.E, max_value=max_e)\n",
    "\n",
    "# Print the first element of the filtered TLE list\n",
    "print(filtered_list_5.tle_list[0])"
   ],
   "metadata": {
    "collapsed": false
   }
  },
  {
   "cell_type": "markdown",
   "source": [
    "\n",
    "\n",
    "In addition to the `filter_by_value` and `filter_by_range` methods, there is a third and very powerful method to filter the TLEs through user defined functions. In `filter_by_func`, a user-defined function takes the TLE, runs some test and returns `True` or `False` accordingly. For example, while TLE does not have a direct way to filter for semimajor axis, a filter can be easily written with this method.\n",
    "\n"
   ],
   "metadata": {
    "collapsed": false
   }
  },
  {
   "cell_type": "code",
   "execution_count": null,
   "outputs": [],
   "source": [
    "from satkit.propagation.tle import TLEUtils\n",
    "\n",
    "# define the filter function and filter the list\n",
    "def sma_filter(tle):\n",
    "    \"\"\"Semimajor axis filter min/max.\"\"\"\n",
    "    return True if 7100 * u.km > TLEUtils.compute_sma(tle) > 7000 * u.km else False\n",
    "\n",
    "\n",
    "filtered_list_sma_1 = tle_storage_1.filter_by_func(sma_filter)\n",
    "\n",
    "# Print the first element of the filtered TLE list\n",
    "print(filtered_list_sma_1.tle_list[0])\n"
   ],
   "metadata": {
    "collapsed": false
   }
  },
  {
   "cell_type": "markdown",
   "source": [
    "The ideal way to initialise the TimeSeries is to generate a `TleStorage` from a file or another source and then filter for a unique satellite identifier.\n",
    "\n"
   ],
   "metadata": {
    "collapsed": false
   }
  },
  {
   "cell_type": "code",
   "execution_count": null,
   "outputs": [],
   "source": [
    "from satkit.propagation.tle_list import TleTimeSeries\n",
    "\n",
    "tle_timeseries_1 = TleStorage.from_path(file_path).to_tle_timeseries(28366)\n",
    "\n",
    "# Print the first element of the filtered TLE list\n",
    "print(tle_timeseries_1.tle_list[0])\n",
    "\n",
    "# Initialise through TLE data\n",
    "tle_timeseries_2 = TleTimeSeries(tle_storage_1.tle_list, 28366)"
   ],
   "metadata": {
    "collapsed": false
   }
  },
  {
   "cell_type": "markdown",
   "source": [
    "Further filtering is then possible using the same methods as `TleStorage` given in the [TLE Filtering](#extracting-specific-data-from-the-lists-filtering) section. For example, all the TLEs after a certain time or above a certain semimajor axis or eccentricity value can be extracted by chaining the filters."
   ],
   "metadata": {
    "collapsed": false
   }
  }
 ],
 "metadata": {
  "kernelspec": {
   "display_name": "Python 3",
   "language": "python",
   "name": "python3"
  },
  "language_info": {
   "codemirror_mode": {
    "name": "ipython",
    "version": 2
   },
   "file_extension": ".py",
   "mimetype": "text/x-python",
   "name": "python",
   "nbconvert_exporter": "python",
   "pygments_lexer": "ipython2",
   "version": "2.7.6"
  }
 },
 "nbformat": 4,
 "nbformat_minor": 0
}
