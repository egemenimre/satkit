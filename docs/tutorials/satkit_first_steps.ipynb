{
 "cells": [
  {
   "cell_type": "markdown",
   "source": [
    "# First Steps in satkit: Propagating an Orbit with a TLE\n",
    "\n",
    "This tutorial illustrates some of the basic functionalities of `satkit` (see the [documentation](https://satkit.readthedocs.io) for the latest or more advanced functionalities).\n",
    "\n",
    "Many of the satellite mission analysis and design problems have four steps:\n",
    "\n",
    "1. Initialise an orbit\n",
    "2. Propagate the orbit to generate the trajectory over a duration\n",
    "3. Do some analysis with this trajectory\n",
    "4. Plot the results\n",
    "\n",
    "In this tutorial we will go over these four basic steps to show how `satkit` works. While most of the functionality belongs to Orekit and the Orekit Python Wrapper, units management is provided by `satkit` through [pint](https://github.com/hgrecco/pint).\n",
    "\n",
    "The first step is to initialise the environment where Orekit will run. This requires showing the system where the \"Orekit Data File” is. Note that, the Orekit reference data zip directory may need to be changed with your configuration. Orekit reference data can also be downloaded as a [zip file](https://gitlab.orekit.org/orekit/orekit-data/-/archive/master/orekit-data-master.zip) from the main Orekit website. In the background, a Java VM is also initialised.\n"
   ],
   "metadata": {
    "collapsed": false
   }
  },
  {
   "cell_type": "code",
   "execution_count": 1,
   "outputs": [],
   "source": [
    "from pathlib import Path\n",
    "\n",
    "import orekit\n",
    "from orekit.pyhelpers import setup_orekit_curdir\n",
    "\n",
    "# If satkit import fails, try to locate the module\n",
    "import os\n",
    "\n",
    "try:\n",
    "    import satkit\n",
    "except ModuleNotFoundError:\n",
    "    os.chdir(os.path.join(\"..\", \"..\"))\n",
    "    os.getcwd()\n",
    "\n",
    "from satkit import process_paths\n",
    "\n",
    "# Init Java VM\n",
    "orekit.initVM()\n",
    "\n",
    "#  Init Orekit data (add alternative path to look for the reference data)\n",
    "orekit_data_file_path = process_paths(Path(\"..\", \"..\"), Path(\"data\", \"orekit-data\", \"orekit-data-reference.zip\"))\n",
    "setup_orekit_curdir(str(orekit_data_file_path))\n",
    "\n",
    "# Orekit init complete"
   ],
   "metadata": {
    "collapsed": false
   }
  },
  {
   "cell_type": "markdown",
   "source": [
    "The second step is to initialise the orbit. For this task we will generate a satellite on a geostationary orbit via `satkit`.\n",
    "\n",
    "\n",
    "\n",
    "For this task we will start with a telecommunications satellite on a geostationary orbit. The up-to-date orbital elements of Turksat-4A can be retrieved from [Celestrak website](https://celestrak.org/NORAD/elements/gp.php?CATNR=39522)."
   ],
   "metadata": {
    "collapsed": false
   }
  },
  {
   "cell_type": "code",
   "execution_count": 2,
   "outputs": [
    {
     "name": "stdout",
     "output_type": "stream",
     "text": [
      "1 39522U 14007A   20193.17132507  .00000144  00000-0  00000+0 0  9992\n",
      "2 39522   0.0769 271.0842 0000679 241.5624 240.5627  1.00268861 23480\n"
     ]
    },
    {
     "ename": "InvalidArgsError",
     "evalue": "(<class 'org.orekit.propagation.analytical.tle.TLE'>, '__init__', (39522, 'U', 2014, 7, 'A', 0, 999, <AbsoluteDateExt: 2020-06-10T12:13:14.000Z>, 7.292115855306589e-05, 0.0, 0.0, 0.0, 0.0, 0.0, <Quantity(2.17495551, 'dimensionless')>, 0.0, 2348, 0.0))",
     "output_type": "error",
     "traceback": [
      "\u001B[0;31m---------------------------------------------------------------------------\u001B[0m",
      "\u001B[0;31mInvalidArgsError\u001B[0m                          Traceback (most recent call last)",
      "Cell \u001B[0;32mIn[2], line 24\u001B[0m\n\u001B[1;32m     20\u001B[0m tle \u001B[38;5;241m=\u001B[39m TLE(line1, line2)\n\u001B[1;32m     22\u001B[0m \u001B[38;5;28mprint\u001B[39m (tle)\n\u001B[0;32m---> 24\u001B[0m tle \u001B[38;5;241m=\u001B[39m \u001B[43mTleFactory\u001B[49m\u001B[38;5;241;43m.\u001B[39;49m\u001B[43minit_geo\u001B[49m\u001B[43m(\u001B[49m\n\u001B[1;32m     25\u001B[0m \u001B[43m    \u001B[49m\u001B[43mepoch\u001B[49m\u001B[43m,\u001B[49m\n\u001B[1;32m     26\u001B[0m \u001B[43m    \u001B[49m\u001B[43mlongitude\u001B[49m\u001B[43m,\u001B[49m\n\u001B[1;32m     27\u001B[0m \u001B[43m    \u001B[49m\u001B[43mlaunch_year\u001B[49m\u001B[38;5;241;43m=\u001B[39;49m\u001B[38;5;241;43m2014\u001B[39;49m\u001B[43m,\u001B[49m\n\u001B[1;32m     28\u001B[0m \u001B[43m    \u001B[49m\u001B[43mlaunch_piece\u001B[49m\u001B[38;5;241;43m=\u001B[39;49m\u001B[38;5;124;43m\"\u001B[39;49m\u001B[38;5;124;43mA\u001B[39;49m\u001B[38;5;124;43m\"\u001B[39;49m\u001B[43m,\u001B[49m\n\u001B[1;32m     29\u001B[0m \u001B[43m    \u001B[49m\u001B[43mlaunch_nr\u001B[49m\u001B[38;5;241;43m=\u001B[39;49m\u001B[38;5;241;43m7\u001B[39;49m\u001B[43m,\u001B[49m\n\u001B[1;32m     30\u001B[0m \u001B[43m    \u001B[49m\u001B[43msat_num\u001B[49m\u001B[38;5;241;43m=\u001B[39;49m\u001B[38;5;241;43m39522\u001B[39;49m\u001B[43m,\u001B[49m\n\u001B[1;32m     31\u001B[0m \u001B[43m    \u001B[49m\u001B[43mclassification\u001B[49m\u001B[38;5;241;43m=\u001B[39;49m\u001B[38;5;124;43m\"\u001B[39;49m\u001B[38;5;124;43mU\u001B[39;49m\u001B[38;5;124;43m\"\u001B[39;49m\u001B[43m,\u001B[49m\n\u001B[1;32m     32\u001B[0m \u001B[43m    \u001B[49m\u001B[43mrev_nr\u001B[49m\u001B[38;5;241;43m=\u001B[39;49m\u001B[38;5;241;43m2348\u001B[39;49m\u001B[43m,\u001B[49m\n\u001B[1;32m     33\u001B[0m \u001B[43m    \u001B[49m\u001B[43mel_nr\u001B[49m\u001B[38;5;241;43m=\u001B[39;49m\u001B[38;5;241;43m999\u001B[39;49m\u001B[43m,\u001B[49m\n\u001B[1;32m     34\u001B[0m \u001B[43m)\u001B[49m\n\u001B[1;32m     36\u001B[0m tle \u001B[38;5;241m=\u001B[39m TLE(line1, line2)\n\u001B[1;32m     38\u001B[0m \u001B[38;5;28mprint\u001B[39m (tle)\n",
      "File \u001B[0;32m~/anaconda3/envs/satkit/lib/python3.10/site-packages/pint/registry_helpers.py:283\u001B[0m, in \u001B[0;36mwraps.<locals>.decorator.<locals>.wrapper\u001B[0;34m(*values, **kw)\u001B[0m\n\u001B[1;32m    279\u001B[0m \u001B[38;5;66;03m# In principle, the values are used as is\u001B[39;00m\n\u001B[1;32m    280\u001B[0m \u001B[38;5;66;03m# When then extract the magnitudes when needed.\u001B[39;00m\n\u001B[1;32m    281\u001B[0m new_values, values_by_name \u001B[38;5;241m=\u001B[39m converter(ureg, values, strict)\n\u001B[0;32m--> 283\u001B[0m result \u001B[38;5;241m=\u001B[39m \u001B[43mfunc\u001B[49m\u001B[43m(\u001B[49m\u001B[38;5;241;43m*\u001B[39;49m\u001B[43mnew_values\u001B[49m\u001B[43m,\u001B[49m\u001B[43m \u001B[49m\u001B[38;5;241;43m*\u001B[39;49m\u001B[38;5;241;43m*\u001B[39;49m\u001B[43mkw\u001B[49m\u001B[43m)\u001B[49m\n\u001B[1;32m    285\u001B[0m \u001B[38;5;28;01mif\u001B[39;00m is_ret_container:\n\u001B[1;32m    286\u001B[0m     out_units \u001B[38;5;241m=\u001B[39m (\n\u001B[1;32m    287\u001B[0m         _replace_units(r, values_by_name) \u001B[38;5;28;01mif\u001B[39;00m is_ref \u001B[38;5;28;01melse\u001B[39;00m r\n\u001B[1;32m    288\u001B[0m         \u001B[38;5;28;01mfor\u001B[39;00m (r, is_ref) \u001B[38;5;129;01min\u001B[39;00m ret\n\u001B[1;32m    289\u001B[0m     )\n",
      "File \u001B[0;32m~/Projects/PycharmProjects/satkit/satkit/propagation/tle.py:141\u001B[0m, in \u001B[0;36mTleFactory.init_geo\u001B[0;34m(epoch, longitude, launch_year, launch_nr, launch_piece, sat_num, classification, rev_nr, el_nr)\u001B[0m\n\u001B[1;32m    138\u001B[0m eph_type \u001B[38;5;241m=\u001B[39m \u001B[38;5;241m0\u001B[39m\n\u001B[1;32m    140\u001B[0m \u001B[38;5;66;03m# all Quantity values converted to values by now\u001B[39;00m\n\u001B[0;32m--> 141\u001B[0m tle \u001B[38;5;241m=\u001B[39m \u001B[43mTLE\u001B[49m\u001B[43m(\u001B[49m\n\u001B[1;32m    142\u001B[0m \u001B[43m    \u001B[49m\u001B[43msat_num\u001B[49m\u001B[43m,\u001B[49m\n\u001B[1;32m    143\u001B[0m \u001B[43m    \u001B[49m\u001B[43mclassification\u001B[49m\u001B[43m,\u001B[49m\n\u001B[1;32m    144\u001B[0m \u001B[43m    \u001B[49m\u001B[43mlaunch_year\u001B[49m\u001B[43m,\u001B[49m\n\u001B[1;32m    145\u001B[0m \u001B[43m    \u001B[49m\u001B[43mlaunch_nr\u001B[49m\u001B[43m,\u001B[49m\n\u001B[1;32m    146\u001B[0m \u001B[43m    \u001B[49m\u001B[43mlaunch_piece\u001B[49m\u001B[43m,\u001B[49m\n\u001B[1;32m    147\u001B[0m \u001B[43m    \u001B[49m\u001B[43meph_type\u001B[49m\u001B[43m,\u001B[49m\n\u001B[1;32m    148\u001B[0m \u001B[43m    \u001B[49m\u001B[43mel_nr\u001B[49m\u001B[43m,\u001B[49m\n\u001B[1;32m    149\u001B[0m \u001B[43m    \u001B[49m\u001B[43mepoch\u001B[49m\u001B[43m,\u001B[49m\n\u001B[1;32m    150\u001B[0m \u001B[43m    \u001B[49m\u001B[43mmean_motion\u001B[49m\u001B[43m,\u001B[49m\n\u001B[1;32m    151\u001B[0m \u001B[43m    \u001B[49m\u001B[43mn_dot\u001B[49m\u001B[43m,\u001B[49m\n\u001B[1;32m    152\u001B[0m \u001B[43m    \u001B[49m\u001B[43mn_dotdot\u001B[49m\u001B[43m,\u001B[49m\n\u001B[1;32m    153\u001B[0m \u001B[43m    \u001B[49m\u001B[43meccentricity\u001B[49m\u001B[43m,\u001B[49m\n\u001B[1;32m    154\u001B[0m \u001B[43m    \u001B[49m\u001B[43minclination\u001B[49m\u001B[43m,\u001B[49m\n\u001B[1;32m    155\u001B[0m \u001B[43m    \u001B[49m\u001B[43marg_perigee\u001B[49m\u001B[43m,\u001B[49m\n\u001B[1;32m    156\u001B[0m \u001B[43m    \u001B[49m\u001B[43mraan\u001B[49m\u001B[43m,\u001B[49m\n\u001B[1;32m    157\u001B[0m \u001B[43m    \u001B[49m\u001B[43mmean_anomaly\u001B[49m\u001B[43m,\u001B[49m\n\u001B[1;32m    158\u001B[0m \u001B[43m    \u001B[49m\u001B[43mrev_nr\u001B[49m\u001B[43m,\u001B[49m\n\u001B[1;32m    159\u001B[0m \u001B[43m    \u001B[49m\u001B[43mbstar\u001B[49m\u001B[43m,\u001B[49m\n\u001B[1;32m    160\u001B[0m \u001B[43m\u001B[49m\u001B[43m)\u001B[49m\n\u001B[1;32m    162\u001B[0m \u001B[38;5;28;01mreturn\u001B[39;00m tle\n",
      "\u001B[0;31mInvalidArgsError\u001B[0m: (<class 'org.orekit.propagation.analytical.tle.TLE'>, '__init__', (39522, 'U', 2014, 7, 'A', 0, 999, <AbsoluteDateExt: 2020-06-10T12:13:14.000Z>, 7.292115855306589e-05, 0.0, 0.0, 0.0, 0.0, 0.0, <Quantity(2.17495551, 'dimensionless')>, 0.0, 2348, 0.0))"
     ]
    }
   ],
   "source": [
    "from satkit.propagation.tle import TleFactory\n",
    "from satkit.time.time import AbsoluteDateExt\n",
    "from pint import UnitRegistry\n",
    "\n",
    "from org.orekit.time import TimeScalesFactory\n",
    "from org.orekit.propagation.analytical.tle import TLE\n",
    "\n",
    "# init unit registry\n",
    "u = UnitRegistry()\n",
    "\n",
    "# TURKSAT 4A\n",
    "line1 = \"1 39522U 14007A   20193.17132507  .00000144  00000-0  00000+0 0  9992\"\n",
    "line2 = \"2 39522   0.0769 271.0842 0000679 241.5624 240.5627  1.00268861 23480\"\n",
    "\n",
    "tle = TLE(line1, line2)\n",
    "\n",
    "epoch = AbsoluteDateExt(2020, 6, 10, 12, 13, 14.0, TimeScalesFactory.getUTC())\n",
    "longitude = 42.0 * u.deg\n",
    "\n",
    "tle = TLE(line1, line2)\n",
    "\n",
    "print (tle)\n",
    "\n",
    "tle = TleFactory.init_geo(\n",
    "    epoch,\n",
    "    longitude,\n",
    "    launch_year=2014,\n",
    "    launch_piece=\"A\",\n",
    "    launch_nr=7,\n",
    "    sat_num=39522,\n",
    "    classification=\"U\",\n",
    "    rev_nr=2348,\n",
    "    el_nr=999,\n",
    ")\n",
    "\n",
    "tle = TLE(line1, line2)\n",
    "\n",
    "print (tle)"
   ],
   "metadata": {
    "collapsed": false
   }
  },
  {
   "cell_type": "markdown",
   "source": [
    "This initialises the orbit from the [Two-Line-Element](https://celestrak.com/NORAD/documentation/tle-fmt.php) data.\n",
    "\n",
    "The next step is to propagate the orbit. However, before diving into that, we need to do a few things:\n",
    "- initialise the `pint` unit engine.\n",
    "- initialise the Earth-Fixed ITRF Frame and the `earth` object for later\n",
    "\n",
    "In this example, we define the propagator `TLEPropagator` and associate our `tle` object with it. We then define an interval with a start time and a duration as well as an output stepsize. Note the use of units to keep track of various durations and how they are defined as `float` - Orekit is in Java and types are therefore strictly defined.\n",
    "\n",
    "Finally, we propagate the orbit with a while loop, extracting new coordinates with `getPVCoordinates()` at the requested date and frame. The output array `pvt_list_itrs` keeps the discrete coordinates in the Earth-fixed (ITRF) coordinate frame."
   ],
   "metadata": {
    "collapsed": false
   }
  },
  {
   "cell_type": "code",
   "execution_count": null,
   "outputs": [],
   "source": [
    "from org.orekit.bodies import OneAxisEllipsoid\n",
    "from org.orekit.utils import IERSConventions, Constants\n",
    "from org.orekit.frames import FramesFactory\n",
    "from org.orekit.time import AbsoluteDate, TimeScalesFactory\n",
    "from org.orekit.propagation.analytical.tle import TLEPropagator\n",
    "\n",
    "from pint import UnitRegistry\n",
    "\n",
    "# init unit registry\n",
    "u = UnitRegistry()\n",
    "\n",
    "#  prepare the itrs frame and the Earth\n",
    "itrf = FramesFactory.getITRF(IERSConventions.IERS_2010, True)\n",
    "earth = OneAxisEllipsoid(Constants.WGS84_EARTH_EQUATORIAL_RADIUS,\n",
    "                         Constants.WGS84_EARTH_FLATTENING,\n",
    "                         itrf)\n",
    "# init SGP4\n",
    "propagator = TLEPropagator.selectExtrapolator(tle)\n",
    "\n",
    "# Propagation bounds and stepsize\n",
    "init_date = AbsoluteDate(2020, 7, 11, 00, 0, 0.0, TimeScalesFactory.getUTC())\n",
    "duration = 3. * u.day\n",
    "stepsize = 120 * u.sec\n",
    "\n",
    "# init empty data for the while loop\n",
    "elapsed_time = 0 * u.sec\n",
    "pvt_list_itrf = []\n",
    "\n",
    "# Propagate into the future with the given stepsize\n",
    "while elapsed_time <= duration:\n",
    "    date = init_date.shiftedBy(float(elapsed_time.m_as(\"seconds\")))\n",
    "    pvt_itrs = propagator.getPVCoordinates(date, itrf)\n",
    "    pvt_list_itrf.append(pvt_itrs)\n",
    "    elapsed_time += stepsize\n",
    "\n",
    "print(f\"First and last points: {pvt_list_itrf[0].getDate()} {pvt_list_itrf[-1].getDate()}\")"
   ],
   "metadata": {
    "collapsed": false
   }
  },
  {
   "cell_type": "markdown",
   "source": [
    "The third step is to do some analysis with this trajectory. In theory, a geostationary orbit is *stationary* with respect to the rotating Earth. For this simple example, we can check whether this definition holds and whether the satellite moves in the Earth-fixed frame.\n",
    "\n",
    "Therefore, the next step is to set a reference value and check how much the satellite position deviate in time from this reference position."
   ],
   "metadata": {
    "collapsed": false
   }
  },
  {
   "cell_type": "code",
   "execution_count": null,
   "outputs": [],
   "source": [
    "# Get ITRS coordinate at initial time\n",
    "pvt_itrf_ref = propagator.getPVCoordinates(init_date, itrf)\n",
    "\n",
    "#  extract the pos and velocity differences (and add units)\n",
    "r_diff_list_itrf = [pvt_itrf.getPosition().subtract(pvt_itrf_ref.getPosition()).getNorm() for pvt_itrf in pvt_list_itrf] * u.m\n",
    "v_diff_list_itrf = [pvt_itrf.getVelocity().subtract(pvt_itrf_ref.getVelocity()).getNorm() for pvt_itrf in pvt_list_itrf] * u.m / u.s\n",
    "\n",
    "# Compute max position and velocity deviation\n",
    "print(f\"Max position deviation: {r_diff_list_itrf.max():~P}\")\n",
    "print(f\"Max velocity deviation: {v_diff_list_itrf.max():~P}\")"
   ],
   "metadata": {
    "collapsed": false
   }
  },
  {
   "cell_type": "markdown",
   "source": [
    "This shows that the maximum deviation from the reference position was about 80 km. Similarly, the maximum velocity difference was more than 6 m/s. These are not small differences, and they are actually due to the force model assumptions and orbit maintenance strategy in GEO.\n",
    "\n",
    "However, we would like to understand these differences a bit more and this necessitates the final step: plotting the results.\n",
    "\n",
    "Note that we need to initialise the `pint` units support to `matplotlib`. The rest is the boilerplate to get the figure the way we like it."
   ],
   "metadata": {
    "collapsed": false
   }
  },
  {
   "cell_type": "code",
   "execution_count": null,
   "outputs": [],
   "source": [
    "from orekit.pyhelpers import absolutedate_to_datetime\n",
    "\n",
    "import matplotlib.pyplot as plt\n",
    "import matplotlib.dates as mdates\n",
    "\n",
    "#  init support for matplotlib\n",
    "u.setup_matplotlib()\n",
    "\n",
    "# Extract the date list for plotting\n",
    "date_list = [absolutedate_to_datetime(pvt_itrs.getDate()) for pvt_itrs in pvt_list_itrf]\n",
    "\n",
    "# prepare the plot\n",
    "fig1 = plt.figure()\n",
    "ax1 = fig1.add_subplot(2,1,1)\n",
    "ax2 = fig1.add_subplot(2,1,2)\n",
    "plt.suptitle(\"Departure from Initial Position and Velocity\")\n",
    "fig1.subplots_adjust(hspace=0.5)\n",
    "\n",
    "ax1.grid()\n",
    "ax1.set_ylabel(f\"Pos diff ({r_diff_list_itrf.u:~P})\")\n",
    "ax1.plot(date_list, r_diff_list_itrf)\n",
    "ax1.xaxis.set_major_formatter(mdates.ConciseDateFormatter(ax1.xaxis.get_major_locator()))\n",
    "\n",
    "ax2.grid()\n",
    "ax2.set_ylabel(f\"Vel diff ({v_diff_list_itrf.u:~P})\")\n",
    "ax2.plot(date_list, v_diff_list_itrf)\n",
    "ax2.xaxis.set_major_formatter(mdates.ConciseDateFormatter(ax1.xaxis.get_major_locator()))\n",
    "\n",
    "plt.show()"
   ],
   "metadata": {
    "collapsed": false
   }
  },
  {
   "cell_type": "markdown",
   "source": [
    "The results show a periodic motion with respect to the initial point, as well as a linear departure.\n",
    "\n",
    "Perhaps more useful is to see this motion on a latitude-longitude plot, where we can see how *geostationary* the  really is. Usually satellite operators define a control box in this coordinate frame and make sure the satellite stays in this box.\n",
    "\n",
    "For this we convert the ITRS position data to Latitude, Longitude and Altitude (`lla_list`) and extract the Latitude and Longitudes for plotting."
   ],
   "metadata": {
    "collapsed": false
   }
  },
  {
   "cell_type": "code",
   "execution_count": null,
   "outputs": [],
   "source": [
    "from matplotlib.ticker import FormatStrFormatter\n",
    "\n",
    "# Generate lat-lon data\n",
    "lla_list  = [earth.transform(pvt.getPosition(), earth.getBodyFrame(), pvt.getDate()) for pvt in pvt_list_itrf]\n",
    "\n",
    "lla_lat_list = ([lla.getLatitude() for lla in lla_list] * u.rad).to(\"degrees\")\n",
    "lla_lon_list = ([lla.getLongitude() for lla in lla_list] * u.rad).to(\"degrees\")\n",
    "\n",
    "# Prepare lat-lon plot\n",
    "fig2, ax = plt.subplots()\n",
    "\n",
    "ax.grid()\n",
    "ax.xaxis.set_major_formatter(FormatStrFormatter(\"% 3.3f\"))\n",
    "ax.yaxis.set_major_formatter(FormatStrFormatter(\"% 3.3f\"))\n",
    "ax.set_xlabel(\"Longitude (deg)\")\n",
    "ax.set_ylabel(\"Latitude (deg)\")\n",
    "ax.plot(lla_lon_list , lla_lat_list)\n",
    "plt.show()"
   ],
   "metadata": {
    "collapsed": false
   }
  },
  {
   "cell_type": "markdown",
   "source": [
    "We see further proof that there is a periodic motion as well as a linear drift. Any further analysis is beyond the scope of this simple tutorial.\n",
    "\n",
    "That said, we have shown the four fundamental steps of approaching a problem with satkit: initialisation, propagation, analysis and plotting the results."
   ],
   "metadata": {
    "collapsed": false
   }
  }
 ],
 "metadata": {
  "kernelspec": {
   "display_name": "Python 3",
   "language": "python",
   "name": "python3"
  },
  "language_info": {
   "codemirror_mode": {
    "name": "ipython",
    "version": 2
   },
   "file_extension": ".py",
   "mimetype": "text/x-python",
   "name": "python",
   "nbconvert_exporter": "python",
   "pygments_lexer": "ipython2",
   "version": "2.7.6"
  }
 },
 "nbformat": 4,
 "nbformat_minor": 0
}
