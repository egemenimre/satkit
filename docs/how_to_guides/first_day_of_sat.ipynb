{
 "cells": [
  {
   "cell_type": "markdown",
   "id": "1e94fadb-3dd8-470c-9277-9e68b09724ca",
   "metadata": {},
   "source": [
    "# The First Day of a Satellite\n",
    "\n",
    "The first day of a satellite in orbit requires a lot of planning (even though the plans go out of the window rather quickly in many cases). The critical inputs to this planning are:\n",
    "- When will we be able to talk to the satellite (groundstation contact times)\n",
    "- Where should I point my groundstation antenna (groundstation antenna azimuth-elevation angles)\n",
    "- When will the satellite see the sun and generate power (satellite illumination times)\n",
    "\n",
    "This how-to guide shows how these bits of crucial information can be generated with satkit. The steps are:\n",
    "1. Set up the orbit\n",
    "2. Set up the groundstation\n",
    "3. Set up the search interval and the propagator\n",
    "4. Run the analyses\n",
    "\n",
    "However, as always, the very first thing to do is to initialise satkit and Orekit."
   ]
  },
  {
   "cell_type": "code",
   "execution_count": null,
   "id": "08ce44b2-3e00-44f7-8a7b-b959467a7838",
   "metadata": {
    "tags": []
   },
   "outputs": [],
   "source": [
    "from pathlib import Path\n",
    "\n",
    "# If satkit import fails, try to locate the module\n",
    "import os\n",
    "\n",
    "try:\n",
    "    import satkit\n",
    "except ModuleNotFoundError:\n",
    "    os.chdir(os.path.join(\"..\", \"..\"))\n",
    "    os.getcwd()\n",
    "\n",
    "from satkit import init_satkit, u\n",
    "\n",
    "init_satkit(Path(\"data\", \"orekit-data\", \"orekit-data-reference.zip\"), Path(\"..\"))\n",
    "\n",
    "# Orekit / satkit init complete"
   ]
  },
  {
   "cell_type": "markdown",
   "id": "5eab56f8",
   "metadata": {},
   "source": [
    "Then the user groundstation location is initialised. The `QuantityInit` class provides the `geodetic_point` method to initialise the groundstation location safely with units."
   ]
  },
  {
   "cell_type": "code",
   "execution_count": null,
   "id": "daf8e01f",
   "metadata": {},
   "outputs": [],
   "source": [
    "from satkit.utils.quantity_init import QuantityInit\n",
    "\n",
    "# Set your groundstation location (geodetic coordinates)\n",
    "longitude = 45.0 * u.deg\n",
    "latitude = 40 * u.deg\n",
    "altitude = 0 * u.m\n",
    "gnd_station = QuantityInit.geodetic_point(latitude, longitude, altitude)"
   ]
  },
  {
   "cell_type": "markdown",
   "id": "c0cb764e-0101-4421-a3eb-98c2706eeada",
   "metadata": {},
   "source": [
    "The next step is to set up the search interval. The search start start and search duration parameters are defined by the target analysis duration and are to be set by the user."
   ]
  },
  {
   "cell_type": "code",
   "execution_count": null,
   "id": "2eec7da6",
   "metadata": {},
   "outputs": [],
   "source": [
    "from org.orekit.time import TimeScalesFactory\n",
    "\n",
    "from satkit.time.time import AbsoluteDateExt\n",
    "from satkit.time.timeinterval import TimeInterval\n",
    "\n",
    "# Shorthand for UTC\n",
    "utc = TimeScalesFactory.getUTC()\n",
    "\n",
    "# Set your search interval\n",
    "search_start = AbsoluteDateExt(\"2020-06-10T00:00:00.000\", utc)\n",
    "duration = 1 * u.day\n",
    "search_interval = TimeInterval.from_duration(search_start, duration)"
   ]
  },
  {
   "cell_type": "markdown",
   "id": "a64b75b6",
   "metadata": {},
   "source": [
    "Finally it is time to set up the orbit and the propagator. \n",
    "\n",
    "Usually, the orbit (in the form of TLE) is given in [Spacetrack](https://www.space-track.org/) or [Celestrak](https://celestrak.org/) websites, even though for small satellites launched in large batches, they can't easily identify which satellite is which, at least at the very beginning. Nevertheless, UHF comms is very forgiving and in many cases even an approximate TLE would work. In the first part of this example, we assume that a reasonably good TLE is known. The TLE goes with the SGP4 analytical propagator, and very little set up is necessary.\n",
    "\n",
    "The other alternative is to start with the cartesian coordinates (for example, separation coordinates provided by the launcher). In this case, the full set of satellite parameters (orbit, physical properties etc.) as well as the numerical propagator with a proper force model should be set up. Clearly, this is much more involved than the TLE and SGP4 combination. A detailed gravity model and a simple drag model (NRLMSISE00 atmosphere and a spherical satellite model) is shown here. For a propagation for a few days, the solar or lunar gravity is probably not needed. Solar radiation pressure is also too small to have a real effect for most smallsats or cubesats within this timeframe and for the purposes of illumination and pass computation.\n",
    "\n",
    "The `using_tle` flag below chooses between the TLE based operations and the cartesian initial conditions. The end result is the `propagator` object that is used for the analyses later."
   ]
  },
  {
   "cell_type": "code",
   "execution_count": null,
   "id": "78f2492b-bb24-476c-8b09-af196acbf46a",
   "metadata": {},
   "outputs": [],
   "source": [
    "from org.orekit.propagation.analytical.tle import TLE, TLEPropagator\n",
    "\n",
    "from org.orekit.propagation.numerical import NumericalPropagator\n",
    "from org.hipparchus.ode.nonstiff import DormandPrince853Integrator\n",
    "from org.orekit.propagation import SpacecraftState\n",
    "from org.orekit.orbits import CartesianOrbit, OrbitType\n",
    "from org.orekit.forces.gravity.potential import GravityFieldFactory\n",
    "from org.orekit.forces.gravity import HolmesFeatherstoneAttractionModel\n",
    "from orekit import JArray_double\n",
    "\n",
    "from org.orekit.models.earth.atmosphere.data import CssiSpaceWeatherData\n",
    "from org.orekit.models.earth.atmosphere import NRLMSISE00\n",
    "from org.orekit.forces.drag import IsotropicDrag\n",
    "from org.orekit.forces.drag import DragForce\n",
    "from org.orekit.bodies import CelestialBodyFactory, OneAxisEllipsoid\n",
    "\n",
    "from org.orekit.utils import IERSConventions, TimeStampedPVCoordinates, PVCoordinatesProvider, Constants\n",
    "from org.orekit.frames import FramesFactory\n",
    "\n",
    "from org.hipparchus.geometry.euclidean.threed import Vector3D\n",
    "\n",
    "# True if a TLE is used for the orbit, False if a cartesian initial condition is used\n",
    "using_tle = True\n",
    "\n",
    "if using_tle:\n",
    "\n",
    "    # Insert your TLE here\n",
    "    line1 = \"1 40697U 15028A   20164.50828565  .00000010  00000-0  20594-4 0  9999\"\n",
    "    line2 = \"2 40697  98.5692 238.8182 0001206  86.9662 273.1664 14.30818200259759\"\n",
    "\n",
    "    # Init TLE object\n",
    "    tle = TLE(line1, line2)\n",
    "\n",
    "    # Set up the SGP4 propagator\n",
    "    propagator = TLEPropagator.selectExtrapolator(tle)\n",
    "\n",
    "else:\n",
    "\n",
    "    # Init useful frames\n",
    "    itrf = FramesFactory.getITRF(IERSConventions.IERS_2010, True)\n",
    "    gcrf = FramesFactory.getGCRF()\n",
    "    teme = FramesFactory.getTEME()\n",
    "\n",
    "    earth = OneAxisEllipsoid(\n",
    "        Constants.WGS84_EARTH_EQUATORIAL_RADIUS,\n",
    "        Constants.WGS84_EARTH_FLATTENING,\n",
    "        itrf,\n",
    "    )\n",
    "    sun_coords = PVCoordinatesProvider.cast_(CelestialBodyFactory.getSun())\n",
    "\n",
    "    # User-defined initial state with cartesian coordinates\n",
    "    # (e.g., spacecraft separation vector)\n",
    "    initialDate = AbsoluteDateExt(\"2020-06-12T12:11:55.88016Z\", utc)\n",
    "    position = Vector3D(-3712324.066353917, -6134153.57973047, 64.00521472066569)\n",
    "    velocity = Vector3D(-945.60658471178, 582.3975490543295, 7374.596184023312)\n",
    "    pos_vel_time = TimeStampedPVCoordinates(initialDate, position, velocity)\n",
    "    initial_orbit = CartesianOrbit(pos_vel_time, gcrf, Constants.WGS84_EARTH_MU)\n",
    "\n",
    "    # User-defined spacecraft mass [kg]\n",
    "    satellite_mass = 10.0\n",
    "\n",
    "    # initial state\n",
    "    initial_state = SpacecraftState(initial_orbit, satellite_mass)\n",
    "\n",
    "    # Set up the numerical propagator\n",
    "    min_step = 0.001\n",
    "    max_step = 1000.0\n",
    "    init_step = 60.0\n",
    "\n",
    "    # spatial tolerance (meters)\n",
    "    position_tolerance = 1.0\n",
    "\n",
    "    tolerances = NumericalPropagator.tolerances(position_tolerance,\n",
    "                                                initial_orbit,\n",
    "                                                initial_orbit.getType())\n",
    "\n",
    "    integrator = DormandPrince853Integrator(min_step, max_step,\n",
    "                                            # Double array of doubles needs to be cast in Python\n",
    "                                            JArray_double.cast_(tolerances[0]),\n",
    "                                            JArray_double.cast_(tolerances[1]))\n",
    "    integrator.setInitialStepSize(init_step)\n",
    "\n",
    "    propagator = NumericalPropagator(integrator)\n",
    "    propagator.setOrbitType(OrbitType.CARTESIAN)\n",
    "    propagator.setInitialState(initial_state)\n",
    "\n",
    "    # Gravity Model for the propagation (degree:8, order: 8)\n",
    "    gravityProvider = GravityFieldFactory.getNormalizedProvider(8, 8)\n",
    "    propagator.addForceModel(HolmesFeatherstoneAttractionModel(itrf, gravityProvider))\n",
    "\n",
    "    # Drag Model for the propagation\n",
    "\n",
    "    # User-defined satellite properties\n",
    "    cross_section = 0.1 * 0.1  # cross-section area in m^2\n",
    "    cd = 2.0  # drag coefficient\n",
    "\n",
    "    # Initialise atmosphere\n",
    "    cswl = CssiSpaceWeatherData(\"SpaceWeather-All-v1.2.txt\")\n",
    "    atmosphere = NRLMSISE00(cswl, sun_coords, earth)\n",
    "    isotropic_drag = IsotropicDrag(cross_section, cd)\n",
    "\n",
    "    # Add the drag model to the forces\n",
    "    propagator.addForceModel(DragForce(atmosphere, isotropic_drag))\n",
    "\n",
    "    # Finally, run the propagation\n",
    "    end_state = propagator.propagate(search_interval.start, search_interval.end)\n",
    "\n",
    "    print(f\"end state: {end_state}\")"
   ]
  },
  {
   "cell_type": "markdown",
   "id": "ad52a9e7",
   "metadata": {},
   "source": [
    "After all the preparations, the analyses can finally be run. The first analysis is to generate the \"satellite illumination events\", showing when the satellite sees the sunlight, which is critical for thermal analyses and power generation.\n",
    "\n",
    "This is also useful to relate the received telemetry to the physical events. For example, the telemetry should show the activation of some of the solar arrays around illumination start time - the absence of any activity may therefore indicate an attitude determination or control failure, erroneous orbit definition or a solar array failure."
   ]
  },
  {
   "cell_type": "code",
   "execution_count": null,
   "id": "fc7328f4",
   "metadata": {},
   "outputs": [],
   "source": [
    "from satkit.events.eventfinders import sat_illum_finder\n",
    "\n",
    "# ----- find sat illumination times -----\n",
    "illum_times = sat_illum_finder(search_interval, propagator, use_total_eclipse=True)\n",
    "\n",
    "print(\"Satellite Illumination Intervals:\")\n",
    "print(\"----------------------------------------------------------------------------\")\n",
    "print(illum_times)"
   ]
  },
  {
   "cell_type": "markdown",
   "id": "c5cb462a",
   "metadata": {},
   "source": [
    "The second analysis is to find the passes above a groundstation. This should give us a detailed list of all pass intervals, maximum elevation value (may determine the quality of the communications as well help plan the tasks for the pass) and azimuth-elevation-range as well as range-rate values, to plan the communications (antenna pointing and doppler corrections). "
   ]
  },
  {
   "cell_type": "code",
   "execution_count": null,
   "id": "92e9e1c9",
   "metadata": {
    "scrolled": true
   },
   "outputs": [],
   "source": [
    "from satkit.events.gnd_access import GroundPassList\n",
    "\n",
    "# ----- find passes -----\n",
    "\n",
    "# minimum elevation definition\n",
    "min_elev = 5 * u.deg\n",
    "\n",
    "# stepsize for the azimuth \n",
    "az_el_timestep = 60 * u.s\n",
    "\n",
    "# find the passes \n",
    "passes = GroundPassList(search_interval,\n",
    "                        gnd_station,\n",
    "                        min_elev,\n",
    "                        propagator,\n",
    "                        planet=None,\n",
    "                        refraction_model=None,\n",
    "                        az_el_timestep=az_el_timestep)\n",
    "\n",
    "print(f\"Groundstation Contact Intervals (above {min_elev:~P} elevation):\")\n",
    "print(\"----------------------------------------------------------------------------\")\n",
    "for gnd_pass in passes.pass_list:\n",
    "    print(f\"{gnd_pass.pass_interval} -- max elev: {gnd_pass.max_elev_time} ({gnd_pass.max_elev_aer.el.to('deg'):~P})\")"
   ]
  },
  {
   "cell_type": "markdown",
   "id": "a8616109",
   "metadata": {},
   "source": [
    "Finally, the azimuth-elevation list of the first pass is given as an example. Note that the stepsize was given in the previous step."
   ]
  },
  {
   "cell_type": "code",
   "execution_count": null,
   "id": "afebb3b7",
   "metadata": {},
   "outputs": [],
   "source": [
    "# ----- find az-el-range -----\n",
    "\n",
    "print()\n",
    "print(\"Groundstation contact az-el list (first pass only, as a sample):\")\n",
    "print(\"----------------------------------------------------------------------------\")\n",
    "\n",
    "\n",
    "for az_el in passes.pass_list[0].az_el_list:\n",
    "    print(f\"t: {az_el.t} az: {az_el.az.to('deg'):~P}  el: {az_el.el.to('deg'):~P}\")"
   ]
  }
 ],
 "metadata": {
  "kernelspec": {
   "display_name": "Python 3 (ipykernel)",
   "language": "python",
   "name": "python3"
  },
  "language_info": {
   "codemirror_mode": {
    "name": "ipython",
    "version": 3
   },
   "file_extension": ".py",
   "mimetype": "text/x-python",
   "name": "python",
   "nbconvert_exporter": "python",
   "pygments_lexer": "ipython3",
   "version": "3.9.15"
  }
 },
 "nbformat": 4,
 "nbformat_minor": 5
}
